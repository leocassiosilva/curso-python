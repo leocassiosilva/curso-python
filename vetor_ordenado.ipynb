{
 "cells": [
  {
   "cell_type": "code",
   "execution_count": 1,
   "id": "4f1bac17",
   "metadata": {},
   "outputs": [],
   "source": [
    "import numpy as np"
   ]
  },
  {
   "cell_type": "code",
   "execution_count": 9,
   "id": "4eccf4aa",
   "metadata": {},
   "outputs": [],
   "source": [
    "class VetorOrdenado:\n",
    "    def __init__(self, capacidade):\n",
    "        self.capacidade = capacidade\n",
    "        self.ultima_posicao = -1\n",
    "        self.valores = np.empty(self.capacidade, dtype=int)\n",
    "        \n",
    "    def imprimir(self):\n",
    "        if self.ultima_posicao == -1:\n",
    "            print(\"Vetor vazio\")\n",
    "        else:\n",
    "            for i in range(self.ultima_posicao + 1):\n",
    "                print(i, \" - \", self.valores[i])                \n",
    "                \n",
    "    def insere(self,valor):\n",
    "        if self.ultima_posicao == self.capacidade -1:\n",
    "            print(\"Capacidade máxima atingida\")\n",
    "            return \n",
    "        \n",
    "        posicao = 0\n",
    "        for i in range(self.ultima_posicao + 1):\n",
    "            posicao = i \n",
    "            if self.valores[i] > valor:\n",
    "                break\n",
    "            if i == self.ultima_posicao:\n",
    "                posicao = i + 1\n",
    "            \n",
    "            \n",
    "        x = self.ultima_posicao\n",
    "         \n",
    "        while x >= posicao:\n",
    "            self.valores[x + 1] = self.valores[x]\n",
    "            x -= 1\n",
    "\n",
    "        self.valores[posicao] = valor\n",
    "        self.ultima_posicao += 1"
   ]
  },
  {
   "cell_type": "code",
   "execution_count": 7,
   "id": "d32c38ca",
   "metadata": {},
   "outputs": [
    {
     "name": "stdout",
     "output_type": "stream",
     "text": [
      "Vetor vazio\n"
     ]
    }
   ],
   "source": [
    "vetor = VetorOrdenado(5)\n",
    "vetor.imprimir()"
   ]
  },
  {
   "cell_type": "code",
   "execution_count": 8,
   "id": "39b18d36",
   "metadata": {},
   "outputs": [
    {
     "name": "stdout",
     "output_type": "stream",
     "text": [
      "0  -  3\n"
     ]
    }
   ],
   "source": [
    "vetor.insere(3)\n",
    "vetor.imprimir()"
   ]
  }
 ],
 "metadata": {
  "kernelspec": {
   "display_name": ".venv",
   "language": "python",
   "name": "python3"
  },
  "language_info": {
   "codemirror_mode": {
    "name": "ipython",
    "version": 3
   },
   "file_extension": ".py",
   "mimetype": "text/x-python",
   "name": "python",
   "nbconvert_exporter": "python",
   "pygments_lexer": "ipython3",
   "version": "3.10.0"
  }
 },
 "nbformat": 4,
 "nbformat_minor": 5
}
