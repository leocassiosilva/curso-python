{
 "cells": [
  {
   "cell_type": "markdown",
   "id": "582e1d85",
   "metadata": {},
   "source": [
    "Crie uma lista vazia e faça a leitura de dois valores do tipo float, colocando cada um dos valores nas primeiras posições da lista (o valor1 ficará na posição 0 da lista e o valor2 ficará na posição 1 da lista). Faça a divisão dos dois valores e trate as seguintes exceções:\n",
    "- ValueError: se o usuário digitar um caracter\n",
    "- ZeroDivisionError: se o usuário digitar zero e ocorrer erro na divisão\n",
    "- IndexError: caso a divisão seja feita levando em consideração posições que não existem na lista\n",
    "- KeyboardInterrupt: caso o usuário interrompa a execução\n",
    "\n",
    "\n",
    "\n",
    "Mostre uma mensagem personalizada na ocorrência de cada um desses erros"
   ]
  },
  {
   "cell_type": "code",
   "execution_count": 4,
   "id": "4582f02e",
   "metadata": {},
   "outputs": [],
   "source": [
    "lista = []"
   ]
  },
  {
   "cell_type": "code",
   "execution_count": 7,
   "id": "c320a33e",
   "metadata": {},
   "outputs": [
    {
     "name": "stdout",
     "output_type": "stream",
     "text": [
      "Erro: Por favor, insira um número válido.\n"
     ]
    }
   ],
   "source": [
    "try:\n",
    "\n",
    "    valor1 = float(input(\"Digite o primeiro valor: \"))\n",
    "    lista.append(valor1)\n",
    "\n",
    "    valor2 = float(input(\"Digite o segundo valor: \"))\n",
    "    lista.append(valor2)\n",
    "\n",
    "    divisao = lista[0] / lista[1]\n",
    "\n",
    "except ValueError:\n",
    "    print(\"Erro: Por favor, insira um número válido.\")\n",
    "except ZeroDivisionError:\n",
    "    print(\"Erro: Divisão por zero não é permitida.\")\n",
    "except IndexError:\n",
    "    print(\"Erro: Lista está vazia ou índice inválido.\")\n",
    "except KeyboardInterrupt:\n",
    "    print(\"\\nOperação cancelada pelo usuário.\")\n",
    "    \n",
    "else:\n",
    "    print(f\"O resultado da divisão é: {divisao}\")\n"
   ]
  }
 ],
 "metadata": {
  "kernelspec": {
   "display_name": ".venv",
   "language": "python",
   "name": "python3"
  },
  "language_info": {
   "codemirror_mode": {
    "name": "ipython",
    "version": 3
   },
   "file_extension": ".py",
   "mimetype": "text/x-python",
   "name": "python",
   "nbconvert_exporter": "python",
   "pygments_lexer": "ipython3",
   "version": "3.10.0"
  }
 },
 "nbformat": 4,
 "nbformat_minor": 5
}
