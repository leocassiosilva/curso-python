{
 "cells": [
  {
   "cell_type": "markdown",
   "id": "8afc97d0",
   "metadata": {},
   "source": [
    "Crie uma classe chamada aluno com os seguintes atributos:\n",
    "- Nome\n",
    "- Nota 1\n",
    "- Nota 2\n",
    "- Crie um construtor para a classe (__init__)\n",
    "\n",
    "\n",
    "\n",
    "Crie as seguintes funções (métodos):\n",
    "- Calcula média, retornando a média aritmética entre as notas\n",
    "- Mostra dados, que somente imprime o valor de todos os atributos\n",
    "- Resultado, que verifica se o aluno está aprovado ou reprovado (se a média for maior ou igual a 6.0, o aluno está aprovado)\n",
    "\n",
    "\n",
    "\n",
    "Crie dois objetos (aluno1 e aluno2) e teste as funções"
   ]
  },
  {
   "cell_type": "code",
   "execution_count": 1,
   "id": "b8a911ac",
   "metadata": {},
   "outputs": [],
   "source": [
    "class Aluno:\n",
    "    def __init__(self, nome, nota1, nota2):\n",
    "        self.nome = nome\n",
    "        self.nota1 = nota1\n",
    "        self.nota2 = nota2\n",
    "\n",
    "    def media(self):\n",
    "        return (self.nota1 + self.nota2) / 2\n",
    "    \n",
    "    def resultado(self):\n",
    "        if self.media() >= 6.0:\n",
    "            return \"Aprovado\"\n",
    "        else:\n",
    "            return \"Reprovado\"\n",
    "    \n",
    "    def exibir_informacoes(self):\n",
    "        print(f\"Nome: {self.nome}\")\n",
    "        print(f\"Nota 1: {self.nota1}\")\n",
    "        print(f\"Nota 2: {self.nota2}\")\n",
    "        print(f\"Média: {self.media()}\")\n",
    "        print(f\"Resultado: {self.resultado()}\")        \n",
    "\n",
    "        \n",
    "    "
   ]
  },
  {
   "cell_type": "code",
   "execution_count": 3,
   "id": "a202d64b",
   "metadata": {},
   "outputs": [
    {
     "name": "stdout",
     "output_type": "stream",
     "text": [
      "Nome: Maria\n",
      "Nota 1: 7.5\n",
      "Nota 2: 8.0\n",
      "Média: 7.75\n",
      "Resultado: Aprovado\n"
     ]
    }
   ],
   "source": [
    "aluno1 = Aluno(\"Maria\", 7.5, 8.0)\n",
    "aluno1.exibir_informacoes()"
   ]
  },
  {
   "cell_type": "code",
   "execution_count": 4,
   "id": "806114bf",
   "metadata": {},
   "outputs": [
    {
     "name": "stdout",
     "output_type": "stream",
     "text": [
      "Nome: João\n",
      "Nota 1: 5.0\n",
      "Nota 2: 4.5\n",
      "Média: 4.75\n",
      "Resultado: Reprovado\n"
     ]
    }
   ],
   "source": [
    "aluno2 = Aluno(\"João\", 5.0, 4.5)\n",
    "aluno2.exibir_informacoes()"
   ]
  }
 ],
 "metadata": {
  "kernelspec": {
   "display_name": ".venv",
   "language": "python",
   "name": "python3"
  },
  "language_info": {
   "codemirror_mode": {
    "name": "ipython",
    "version": 3
   },
   "file_extension": ".py",
   "mimetype": "text/x-python",
   "name": "python",
   "nbconvert_exporter": "python",
   "pygments_lexer": "ipython3",
   "version": "3.10.0"
  }
 },
 "nbformat": 4,
 "nbformat_minor": 5
}
