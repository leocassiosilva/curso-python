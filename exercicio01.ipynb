{
 "cells": [
  {
   "cell_type": "markdown",
   "id": "d01afd5d",
   "metadata": {},
   "source": [
    "Leia a idade do usuário e classifique-o em:\n",
    "- Criança – 0 a 12 anos\n",
    "- Adolescente – 13 a 17 anos\n",
    "- Adulto – acima de 18 anos\n",
    "-Se o usuário digitar um número negativo, mostrar a mensagem que a idade é inválida"
   ]
  },
  {
   "cell_type": "code",
   "execution_count": 1,
   "id": "264958fa",
   "metadata": {},
   "outputs": [],
   "source": [
    "idade = int(input(\"Informe sua idade:\"))"
   ]
  },
  {
   "cell_type": "code",
   "execution_count": 4,
   "id": "d1004b8b",
   "metadata": {},
   "outputs": [
    {
     "name": "stdout",
     "output_type": "stream",
     "text": [
      "Criança\n"
     ]
    }
   ],
   "source": [
    "if idade >= 0  and idade <= 12:\n",
    "    print(\"Criança\")\n",
    "elif idade >= 13 and idade <= 17:\n",
    "    print(\"Adolescente\")\n",
    "elif idade >= 18: \n",
    "    print(\"Adulto\")\n",
    "else:\n",
    "    print(\"Idade inválida\")"
   ]
  },
  {
   "cell_type": "markdown",
   "id": "2c538f62",
   "metadata": {},
   "source": [
    "Calcular a média de um aluno que cursou a disciplina de Programação I, a partir da leitura das notas M1, M2 e M3; passando por um cálculo da média aritmética. Após a média calculada, devemos anunciar se o aluno foi aprovado, reprovado ou pegou exame\n",
    "- Se a média estiver entre 0.0 e 4.0, o aluno está reprovado\n",
    "- Se a média estiver entre 4.1 e 6.0, o aluno pegou exame\n",
    "- Se a média for maior do que 6.0, o aluno está aprovado\n",
    "- Se o aluno pegou exame, deve ser lida a nota do exame. Se a nota do exame for maior do que 6.0, está aprovado, senão; está reprovado"
   ]
  },
  {
   "cell_type": "code",
   "execution_count": 6,
   "id": "3704abdb",
   "metadata": {},
   "outputs": [],
   "source": [
    "m1 = float(input(\"Informe a nota 1:\"))\n",
    "m2 = float(input(\"Informe a nota 2:\"))\n",
    "m3 = float(input(\"Informe a nota 3:\"))"
   ]
  },
  {
   "cell_type": "code",
   "execution_count": 7,
   "id": "1d613577",
   "metadata": {},
   "outputs": [],
   "source": [
    "media = (m1 + m2 + m3) / 3"
   ]
  },
  {
   "cell_type": "code",
   "execution_count": 8,
   "id": "9e7119c9",
   "metadata": {},
   "outputs": [
    {
     "data": {
      "text/plain": [
       "69.33333333333333"
      ]
     },
     "execution_count": 8,
     "metadata": {},
     "output_type": "execute_result"
    }
   ],
   "source": [
    "media"
   ]
  },
  {
   "cell_type": "code",
   "execution_count": 9,
   "id": "77c79574",
   "metadata": {},
   "outputs": [
    {
     "name": "stdout",
     "output_type": "stream",
     "text": [
      "Aprovado\n"
     ]
    }
   ],
   "source": [
    "if media >= 0.0 and media <= 4.0:\n",
    "    print(\"Reprovado\")\n",
    "elif media >= 4.1 and media <= 6.0:\n",
    "    nota_exame = float(input(\"Informe a nota do exame:\"))\n",
    "    if nota_exame > 6.0:\n",
    "        print(\"Aprovado em exame\")\n",
    "    else:\n",
    "        print(\"Reprovado em exame\")\n",
    "elif media >= 6.1:\n",
    "    print(\"Aprovado\")"
   ]
  }
 ],
 "metadata": {
  "kernelspec": {
   "display_name": ".venv",
   "language": "python",
   "name": "python3"
  },
  "language_info": {
   "codemirror_mode": {
    "name": "ipython",
    "version": 3
   },
   "file_extension": ".py",
   "mimetype": "text/x-python",
   "name": "python",
   "nbconvert_exporter": "python",
   "pygments_lexer": "ipython3",
   "version": "3.10.0"
  }
 },
 "nbformat": 4,
 "nbformat_minor": 5
}
