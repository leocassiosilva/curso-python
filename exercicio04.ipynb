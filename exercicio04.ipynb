{
 "cells": [
  {
   "cell_type": "markdown",
   "id": "28082ca7",
   "metadata": {},
   "source": [
    "Ler uma temperatura em graus Celsius e apresentá-la convertida em graus Fahrenheit. A fórmula de conversão é F = (9 * C + 160) / 5, \n",
    "na qual F é a temperatura em Fahrenheit e C é a temperatura em graus Celsius\n",
    "- Função para ler e retorna o valor da temperatura (não recebe parâmetro)\n",
    "- Função para fazer o cálculo (recebe como parâmetro a temperatura em graus Celsius)\n",
    "- Função para mostrar o resultado, recebendo como parâmetro o valor e fazendo a impressão"
   ]
  },
  {
   "cell_type": "code",
   "execution_count": 15,
   "id": "db77955f",
   "metadata": {},
   "outputs": [],
   "source": [
    "def leitura ():\n",
    "    temperatura = float(input(\"Digite a temperatura em Celsius: \"))\n",
    "    return temperatura"
   ]
  },
  {
   "cell_type": "code",
   "execution_count": 16,
   "id": "a3e7ec80",
   "metadata": {},
   "outputs": [],
   "source": [
    "def conversao (celsius):\n",
    "    fahrenheit = (celsius * 9/5) + 32\n",
    "    return fahrenheit"
   ]
  },
  {
   "cell_type": "code",
   "execution_count": 17,
   "id": "a8a38c7d",
   "metadata": {},
   "outputs": [],
   "source": [
    "def exibir (fahrenheit):\n",
    "    print(f\"A temperatura em Fahrenheit é: {fahrenheit:.2f}°F\")"
   ]
  },
  {
   "cell_type": "code",
   "execution_count": 18,
   "id": "0741a6ab",
   "metadata": {},
   "outputs": [
    {
     "name": "stdout",
     "output_type": "stream",
     "text": [
      "A temperatura em Fahrenheit é: 68.00°F\n"
     ]
    }
   ],
   "source": [
    "temeratura_celsius = leitura()\n",
    "temeratura_fahrenheit = conversao(temeratura_celsius)\n",
    "exibir(temeratura_fahrenheit)"
   ]
  },
  {
   "cell_type": "markdown",
   "id": "62e0a9bd",
   "metadata": {},
   "source": [
    "Efetuar o cálculo da quantidade de litros de combustível gasto em uma viagem, utilizando um automóvel que faz 12 Km por litro. Para obter o cálculo, o usuário deve fornecer o tempo gasto na viagem e a velocidade média durante ela. Desta forma, será possível obter a distância percorrida com a fórmula DISTANCIA = TEMPO * VELOCIDADE. Tendo o valor da distância, basta calcular a quantidade de litros de combustível utilizada na viagem, com a fórmula: LITROS_USADOS = DISTANCIA / 12. O programa deve apresentar os valores da velocidade média, tempo gasto na viagem, a distância percorrida e a quantidade de litros utilizada na viagem\n",
    "- Função para ler os valores (não recebe parâmetro e retorna os dois valores)\n",
    "- Função para calcular a distância (recebe como parâmetro o tempo e a velocidade e retorna a distância)\n",
    "- Função para calcular a quantidade de litros (recebe como parâmetro a distância e retorna os litros)\n",
    "- Função para apresentar o resultado (recebe como parâmetro os valores e somente imprime o resultado)"
   ]
  },
  {
   "cell_type": "code",
   "execution_count": 19,
   "id": "e1bc2671",
   "metadata": {},
   "outputs": [],
   "source": [
    "def leitura ():\n",
    "    tempo = float(input(\"Digite o tempo em horas da viagem: \"))\n",
    "    velocidade = float(input(\"Digite a velocidade média em km/h: \"))\n",
    "    return tempo, velocidade"
   ]
  },
  {
   "cell_type": "code",
   "execution_count": 20,
   "id": "abc80d9d",
   "metadata": {},
   "outputs": [],
   "source": [
    "def calcular_distancia (tempo, velocidade):\n",
    "    distancia = tempo * velocidade\n",
    "    return distancia"
   ]
  },
  {
   "cell_type": "code",
   "execution_count": 21,
   "id": "70bbb6d9",
   "metadata": {},
   "outputs": [],
   "source": [
    "def calcular_qtd_litros (distancia):\n",
    "    litros = distancia / 12\n",
    "    return litros"
   ]
  },
  {
   "cell_type": "code",
   "execution_count": 22,
   "id": "3e0dd331",
   "metadata": {},
   "outputs": [],
   "source": [
    "def exibir_valores (distancia, litros):\n",
    "    print(f\"A distância total da viagem é: {distancia:.2f} km\")\n",
    "    print(f\"A quantidade de litros necessária para a viagem é: {litros:.2f} litros\")"
   ]
  },
  {
   "cell_type": "code",
   "execution_count": 23,
   "id": "657c9d2f",
   "metadata": {},
   "outputs": [
    {
     "name": "stdout",
     "output_type": "stream",
     "text": [
      "A distância total da viagem é: 625.00 km\n",
      "A quantidade de litros necessária para a viagem é: 52.08 litros\n"
     ]
    }
   ],
   "source": [
    "tempo, velocidade = leitura()\n",
    "distancia = calcular_distancia(tempo, velocidade)\n",
    "litros = calcular_qtd_litros(distancia)\n",
    "exibir_valores(distancia, litros)\n"
   ]
  }
 ],
 "metadata": {
  "kernelspec": {
   "display_name": ".venv",
   "language": "python",
   "name": "python3"
  },
  "language_info": {
   "codemirror_mode": {
    "name": "ipython",
    "version": 3
   },
   "file_extension": ".py",
   "mimetype": "text/x-python",
   "name": "python",
   "nbconvert_exporter": "python",
   "pygments_lexer": "ipython3",
   "version": "3.10.0"
  }
 },
 "nbformat": 4,
 "nbformat_minor": 5
}
