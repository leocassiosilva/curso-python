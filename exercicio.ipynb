{
 "cells": [
  {
   "cell_type": "markdown",
   "id": "e22de07e",
   "metadata": {},
   "source": [
    "Ler dois números inteiros, executar e mostrar o resultado das seguintes operações: adição, subtração, multiplicação e divisão"
   ]
  },
  {
   "cell_type": "code",
   "execution_count": 8,
   "id": "909955ee",
   "metadata": {},
   "outputs": [],
   "source": [
    "num1 = int(input('Digite um numero:'))\n",
    "num2 = int(input('Digite outro numero:'))"
   ]
  },
  {
   "cell_type": "code",
   "execution_count": 9,
   "id": "a378946f",
   "metadata": {},
   "outputs": [
    {
     "data": {
      "text/plain": [
       "12"
      ]
     },
     "execution_count": 9,
     "metadata": {},
     "output_type": "execute_result"
    }
   ],
   "source": [
    "num1"
   ]
  },
  {
   "cell_type": "code",
   "execution_count": 10,
   "id": "bd71786c",
   "metadata": {},
   "outputs": [
    {
     "data": {
      "text/plain": [
       "15"
      ]
     },
     "execution_count": 10,
     "metadata": {},
     "output_type": "execute_result"
    }
   ],
   "source": [
    "num2"
   ]
  },
  {
   "cell_type": "code",
   "execution_count": 11,
   "id": "d8b351f8",
   "metadata": {},
   "outputs": [],
   "source": [
    "#Realizar as operações matemáticas\n",
    "soma = num1 + num2\n",
    "subtracao = num1 - num2\n",
    "multiplicacao = num1 * num2\n",
    "divisao = num1 / num2"
   ]
  },
  {
   "cell_type": "code",
   "execution_count": 12,
   "id": "74e355da",
   "metadata": {},
   "outputs": [
    {
     "name": "stdout",
     "output_type": "stream",
     "text": [
      "Soma: 27\n",
      "Subtração: -3\n",
      "Multiplicação: 180\n",
      "Divisão: 0.8\n"
     ]
    }
   ],
   "source": [
    "#Exibir os resultados\n",
    "print('Soma:', soma)\n",
    "print('Subtração:', subtracao)\n",
    "print('Multiplicação:', multiplicacao)\n",
    "print('Divisão:', divisao)"
   ]
  },
  {
   "cell_type": "markdown",
   "id": "3ff50985",
   "metadata": {},
   "source": [
    "Efetuar o cálculo da quantidade de litros de combustível gasto em uma viagem, utilizando um automóvel que faz 12 Km por litro. Para obter o cálculo, o usuário deve fornecer o tempo gasto na viagem e a velocidade média durante ela. Desta forma, será possível obter a distância percorrida com a fórmula DISTANCIA = TEMPO * VELOCIDADE. Tendo o valor da distância, basta calcular a quantidade de litros de combustível utilizada na viagem, com a fórmula: LITROS_USADOS = DISTANCIA / 12. O programa deve apresentar os valores da velocidade média, tempo gasto na viagem, a distância percorrida e a quantidade de litros utilizada na viagem"
   ]
  },
  {
   "cell_type": "code",
   "execution_count": 13,
   "id": "6b0baec8",
   "metadata": {},
   "outputs": [],
   "source": [
    "tempo = float(input('Digite o tempo em horas:'))\n",
    "velocidade = float(input('Digite a velocidade em km/h:'))"
   ]
  },
  {
   "cell_type": "code",
   "execution_count": 14,
   "id": "0f79c316",
   "metadata": {},
   "outputs": [],
   "source": [
    "distancia = velocidade * tempo\n",
    "litros = distancia / 12"
   ]
  },
  {
   "cell_type": "code",
   "execution_count": 15,
   "id": "49f1e295",
   "metadata": {},
   "outputs": [
    {
     "name": "stdout",
     "output_type": "stream",
     "text": [
      "A distância percorrida foi de 160.0 km\n",
      "A quantidade de litros utilizada foi de 13.333333333333334 litros\n"
     ]
    }
   ],
   "source": [
    "print('A distância percorrida foi de', distancia, 'km')\n",
    "print('A quantidade de litros utilizada foi de', litros, 'litros')"
   ]
  }
 ],
 "metadata": {
  "kernelspec": {
   "display_name": ".venv",
   "language": "python",
   "name": "python3"
  },
  "language_info": {
   "codemirror_mode": {
    "name": "ipython",
    "version": 3
   },
   "file_extension": ".py",
   "mimetype": "text/x-python",
   "name": "python",
   "nbconvert_exporter": "python",
   "pygments_lexer": "ipython3",
   "version": "3.10.0"
  }
 },
 "nbformat": 4,
 "nbformat_minor": 5
}
