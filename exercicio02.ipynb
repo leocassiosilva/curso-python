{
 "cells": [
  {
   "cell_type": "markdown",
   "id": "281417b3",
   "metadata": {},
   "source": [
    "Para revisar o conteúdo prático visto até agora, você agora pode \n",
    "resolver dois exercícios. Logo em seguida você pode acessar a aula em vídeo com a solução. \n",
    "Implemente cada exercício utilizando tanto o for quanto o while\n",
    "\n",
    "Ler 5 notas e informar a média\n",
    "\n",
    "\n",
    "\n",
    "Imprimir a tabuada do número 3 (3 x 1 = 1 - 3 x 10 = 30)\n"
   ]
  },
  {
   "cell_type": "markdown",
   "id": "cf9ca06b",
   "metadata": {},
   "source": [
    "Ler 5 notas e informar a média usando for"
   ]
  },
  {
   "cell_type": "code",
   "execution_count": 12,
   "id": "ac5bee74",
   "metadata": {},
   "outputs": [],
   "source": [
    "nota = 0\n",
    "soma = 0\n",
    "contador = 0  "
   ]
  },
  {
   "cell_type": "code",
   "execution_count": 13,
   "id": "4e8260ae",
   "metadata": {},
   "outputs": [
    {
     "ename": "ValueError",
     "evalue": "could not convert string to float: ''",
     "output_type": "error",
     "traceback": [
      "\u001b[1;31m---------------------------------------------------------------------------\u001b[0m",
      "\u001b[1;31mValueError\u001b[0m                                Traceback (most recent call last)",
      "Cell \u001b[1;32mIn[13], line 2\u001b[0m\n\u001b[0;32m      1\u001b[0m \u001b[38;5;28;01mfor\u001b[39;00m _ \u001b[38;5;129;01min\u001b[39;00m \u001b[38;5;28mrange\u001b[39m(\u001b[38;5;241m1\u001b[39m, \u001b[38;5;241m6\u001b[39m):\n\u001b[1;32m----> 2\u001b[0m     nota \u001b[38;5;241m=\u001b[39m \u001b[38;5;28;43mfloat\u001b[39;49m\u001b[43m(\u001b[49m\u001b[38;5;28;43minput\u001b[39;49m\u001b[43m(\u001b[49m\u001b[38;5;124;43mf\u001b[39;49m\u001b[38;5;124;43m\"\u001b[39;49m\u001b[38;5;124;43mDigite a \u001b[39;49m\u001b[38;5;132;43;01m{\u001b[39;49;00m\u001b[43m_\u001b[49m\u001b[38;5;132;43;01m}\u001b[39;49;00m\u001b[38;5;124;43mª nota: \u001b[39;49m\u001b[38;5;124;43m\"\u001b[39;49m\u001b[43m)\u001b[49m\u001b[43m)\u001b[49m\n\u001b[0;32m      3\u001b[0m     soma \u001b[38;5;241m+\u001b[39m\u001b[38;5;241m=\u001b[39m nota\n\u001b[0;32m      4\u001b[0m     contador \u001b[38;5;241m+\u001b[39m\u001b[38;5;241m=\u001b[39m \u001b[38;5;241m1\u001b[39m\n",
      "\u001b[1;31mValueError\u001b[0m: could not convert string to float: ''"
     ]
    }
   ],
   "source": [
    "for _ in range(1, 6):\n",
    "    nota = float(input(f\"Digite a {_}ª nota: \"))\n",
    "    soma += nota\n",
    "    contador += 1"
   ]
  },
  {
   "cell_type": "code",
   "execution_count": null,
   "id": "be354b31",
   "metadata": {},
   "outputs": [
    {
     "name": "stdout",
     "output_type": "stream",
     "text": [
      "A média das notas é: 80.00\n"
     ]
    }
   ],
   "source": [
    "media = soma / contador\n",
    "print(f\"A média das notas é: {media:.2f}\")"
   ]
  },
  {
   "cell_type": "markdown",
   "id": "42a04b36",
   "metadata": {},
   "source": [
    "Ler 5 notas e informar a média usando While"
   ]
  },
  {
   "cell_type": "code",
   "execution_count": 18,
   "id": "61afe948",
   "metadata": {},
   "outputs": [],
   "source": [
    "count = 0\n",
    "sum_grades = 0\n",
    "\n",
    "while count < 5:\n",
    "    grade = float(input(f\"Enter grade {count + 1}: \"))\n",
    "    sum_grades += grade\n",
    "    count += 1\n"
   ]
  },
  {
   "cell_type": "code",
   "execution_count": 19,
   "id": "8232fcee",
   "metadata": {},
   "outputs": [
    {
     "name": "stdout",
     "output_type": "stream",
     "text": [
      "A média das notas é: 80.00\n"
     ]
    }
   ],
   "source": [
    "average = sum_grades / count\n",
    "print(f\"A média das notas é: {average:.2f}\")"
   ]
  }
 ],
 "metadata": {
  "kernelspec": {
   "display_name": ".venv",
   "language": "python",
   "name": "python3"
  },
  "language_info": {
   "codemirror_mode": {
    "name": "ipython",
    "version": 3
   },
   "file_extension": ".py",
   "mimetype": "text/x-python",
   "name": "python",
   "nbconvert_exporter": "python",
   "pygments_lexer": "ipython3",
   "version": "3.10.0"
  }
 },
 "nbformat": 4,
 "nbformat_minor": 5
}
