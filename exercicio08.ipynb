{
 "cells": [
  {
   "cell_type": "markdown",
   "id": "a9da31dd",
   "metadata": {},
   "source": [
    "Crie expressões regulares para extrair as seguintes informações do texto abaixo (use a função findall):\n",
    "- Números\n",
    "- CEPs\n",
    "- URLs"
   ]
  },
  {
   "cell_type": "code",
   "execution_count": 6,
   "id": "0fbe6da6",
   "metadata": {},
   "outputs": [],
   "source": [
    "import re \n",
    "frase = \"Brasil (com DDD e 9 dígitos):(11)98765-4321 , (21) 91234-5678 e (31) 99876-5432\""
   ]
  },
  {
   "cell_type": "code",
   "execution_count": 10,
   "id": "4e1b230d",
   "metadata": {},
   "outputs": [
    {
     "name": "stdout",
     "output_type": "stream",
     "text": [
      "['(11)98765-4321', '(21) 91234-5678', '(31) 99876-5432']\n"
     ]
    }
   ],
   "source": [
    "numeros = re.findall(r'\\(\\d{2}\\)\\s?\\d{4,5}-\\d{4}', frase)\n",
    "print(numeros)"
   ]
  },
  {
   "cell_type": "code",
   "execution_count": 12,
   "id": "3f7b7d12",
   "metadata": {},
   "outputs": [],
   "source": [
    "texto = \"01001-000 (São Paulo, SP), 20040-002 (Rio de Janeiro, RJ), 30130-010 (Belo Horizonte, MG)\""
   ]
  },
  {
   "cell_type": "code",
   "execution_count": 14,
   "id": "a3c237ed",
   "metadata": {},
   "outputs": [
    {
     "data": {
      "text/plain": [
       "['01001-000', '20040-002', '30130-010']"
      ]
     },
     "execution_count": 14,
     "metadata": {},
     "output_type": "execute_result"
    }
   ],
   "source": [
    "ceps = re.findall(r'\\d{5}-\\d{3}', texto)\n",
    "ceps"
   ]
  },
  {
   "cell_type": "code",
   "execution_count": 15,
   "id": "628c1d50",
   "metadata": {},
   "outputs": [],
   "source": [
    "texto1 = \"https://www.google.com, http://www.example.com\""
   ]
  },
  {
   "cell_type": "code",
   "execution_count": 17,
   "id": "0f5e7658",
   "metadata": {},
   "outputs": [
    {
     "data": {
      "text/plain": [
       "['https://www.google.com', 'http://www.example.com']"
      ]
     },
     "execution_count": 17,
     "metadata": {},
     "output_type": "execute_result"
    }
   ],
   "source": [
    "urls = re.findall(r'https?://[^\\s,]+', texto1)\n",
    "urls"
   ]
  }
 ],
 "metadata": {
  "kernelspec": {
   "display_name": ".venv",
   "language": "python",
   "name": "python3"
  },
  "language_info": {
   "codemirror_mode": {
    "name": "ipython",
    "version": 3
   },
   "file_extension": ".py",
   "mimetype": "text/x-python",
   "name": "python",
   "nbconvert_exporter": "python",
   "pygments_lexer": "ipython3",
   "version": "3.10.0"
  }
 },
 "nbformat": 4,
 "nbformat_minor": 5
}
