{
 "cells": [
  {
   "cell_type": "markdown",
   "id": "1c4a216d",
   "metadata": {},
   "source": [
    "Lista: Crie uma estrutura de repetição para fazer a leitura de 5 números inteiros e os armazene dentro de uma lista. Após a leitura, crie outra estrutura de repetição para somar todos os valores digitados"
   ]
  },
  {
   "cell_type": "code",
   "execution_count": 4,
   "id": "f7a210ea",
   "metadata": {},
   "outputs": [],
   "source": [
    "lista = []"
   ]
  },
  {
   "cell_type": "code",
   "execution_count": 5,
   "id": "69200475",
   "metadata": {},
   "outputs": [
    {
     "name": "stdout",
     "output_type": "stream",
     "text": [
      "Números digitados: [1, 2, 3, 4, 5]\n"
     ]
    }
   ],
   "source": [
    "for _ in range (1, 6):\n",
    "    numero = int(input(f\"Digite o {_}º número: \"))\n",
    "    lista.append(numero)    \n",
    "print(f\"Números digitados: {lista}\")"
   ]
  },
  {
   "cell_type": "code",
   "execution_count": 8,
   "id": "e6efdead",
   "metadata": {},
   "outputs": [],
   "source": [
    "soma  = 0\n",
    "for numero in range(1, 6):\n",
    "    soma = soma + numero"
   ]
  },
  {
   "cell_type": "code",
   "execution_count": 9,
   "id": "201bd387",
   "metadata": {},
   "outputs": [
    {
     "data": {
      "text/plain": [
       "15"
      ]
     },
     "execution_count": 9,
     "metadata": {},
     "output_type": "execute_result"
    }
   ],
   "source": [
    "soma"
   ]
  },
  {
   "cell_type": "markdown",
   "id": "629c62e6",
   "metadata": {},
   "source": [
    "Dicionário: Crie um dicionário para armazenar o nome e a nota de 3 alunos, fazendo a leitura dos valores por meio de uma estrutura de repetição. Depois, crie uma nova estrutura de repetição para somar todas as notas e retornar a média"
   ]
  },
  {
   "cell_type": "code",
   "execution_count": null,
   "id": "e30a084f",
   "metadata": {},
   "outputs": [],
   "source": [
    "alunos = {}\n",
    "\n",
    "for _ in range(1, 4):\n",
    "    nome = input(\"Digite um nome: \")\n",
    "    nota = float(input(\"Digite a nota: \"))\n",
    "    alunos[nome] = nota"
   ]
  },
  {
   "cell_type": "code",
   "execution_count": 13,
   "id": "5eb1e3e7",
   "metadata": {},
   "outputs": [],
   "source": [
    "alunos\n",
    "soma = 0"
   ]
  },
  {
   "cell_type": "code",
   "execution_count": 15,
   "id": "1f709d27",
   "metadata": {},
   "outputs": [
    {
     "name": "stdout",
     "output_type": "stream",
     "text": [
      "Nome: Leocassio - Nota: 85.0\n",
      "Nome: Maria - Nota: 75.0\n",
      "Nome: Pedro - Nota: 100.0\n",
      "Soma das notas: 260.0\n",
      "Média das notas: 86.66666666666667\n"
     ]
    }
   ],
   "source": [
    "for nome in alunos:\n",
    "    print(f\"Nome: {nome} - Nota: {alunos[nome]}\")\n",
    "    soma += alunos[nome]\n",
    "    \n",
    "print(f\"Soma das notas: {soma}\")\n",
    "print(f\"Média das notas: {soma / len(alunos) if alunos else 0}\")"
   ]
  },
  {
   "cell_type": "markdown",
   "id": "9716368c",
   "metadata": {},
   "source": [
    "Matriz: Dada a matriz abaixo, construa uma estrutura de repetição para percorrer e somar todos os elementos da matriz\n",
    "\n",
    "matriz = np.array([[3, 4, 1],\n",
    "                   [3, 1, 5]])"
   ]
  },
  {
   "cell_type": "code",
   "execution_count": 17,
   "id": "1b95efae",
   "metadata": {},
   "outputs": [],
   "source": [
    "import numpy as np\n",
    "\n",
    "matriz = np.array([[3, 4, 1],\n",
    "                   [3, 1, 5]])"
   ]
  },
  {
   "cell_type": "code",
   "execution_count": 18,
   "id": "686d81fe",
   "metadata": {},
   "outputs": [
    {
     "name": "stdout",
     "output_type": "stream",
     "text": [
      "Soma dos elementos da matriz: 17\n"
     ]
    }
   ],
   "source": [
    "soma = 0\n",
    "\n",
    "for i in range(matriz.shape[0]):\n",
    "    for j in range(matriz.shape[1]):\n",
    "        soma += matriz[i, j]\n",
    "\n",
    "print(f\"Soma dos elementos da matriz: {soma}\")"
   ]
  }
 ],
 "metadata": {
  "kernelspec": {
   "display_name": ".venv",
   "language": "python",
   "name": "python3"
  },
  "language_info": {
   "codemirror_mode": {
    "name": "ipython",
    "version": 3
   },
   "file_extension": ".py",
   "mimetype": "text/x-python",
   "name": "python",
   "nbconvert_exporter": "python",
   "pygments_lexer": "ipython3",
   "version": "3.10.0"
  }
 },
 "nbformat": 4,
 "nbformat_minor": 5
}
