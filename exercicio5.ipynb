{
 "cells": [
  {
   "cell_type": "markdown",
   "id": "03d9eda3",
   "metadata": {},
   "source": [
    "Crie um arquivo .py com duas funções\n",
    "- Função para ler um string (recebe como parâmetro uma mensagem e retorna o que o usuário digitou)\n",
    "- Função para ler um número float (recebe como parâmetro uma mensagem e retorna o que o usuário digitou)"
   ]
  },
  {
   "cell_type": "code",
   "execution_count": 2,
   "id": "3d78ea92",
   "metadata": {},
   "outputs": [],
   "source": [
    "import util as ut"
   ]
  },
  {
   "cell_type": "code",
   "execution_count": 3,
   "id": "5982ad60",
   "metadata": {},
   "outputs": [],
   "source": [
    "texto = ut.ler_frase(\"Digite uma frase: \")"
   ]
  },
  {
   "cell_type": "code",
   "execution_count": 4,
   "id": "f6fa17e1",
   "metadata": {},
   "outputs": [],
   "source": [
    "numero = ut.ler_numero(\"Digite um número: \")"
   ]
  },
  {
   "cell_type": "code",
   "execution_count": 5,
   "id": "658b3617",
   "metadata": {},
   "outputs": [
    {
     "data": {
      "text/plain": [
       "58"
      ]
     },
     "execution_count": 5,
     "metadata": {},
     "output_type": "execute_result"
    }
   ],
   "source": [
    "numero"
   ]
  },
  {
   "cell_type": "code",
   "execution_count": 6,
   "id": "8d790072",
   "metadata": {},
   "outputs": [
    {
     "data": {
      "text/plain": [
       "'45'"
      ]
     },
     "execution_count": 6,
     "metadata": {},
     "output_type": "execute_result"
    }
   ],
   "source": [
    "texto"
   ]
  }
 ],
 "metadata": {
  "kernelspec": {
   "display_name": ".venv",
   "language": "python",
   "name": "python3"
  },
  "language_info": {
   "codemirror_mode": {
    "name": "ipython",
    "version": 3
   },
   "file_extension": ".py",
   "mimetype": "text/x-python",
   "name": "python",
   "nbconvert_exporter": "python",
   "pygments_lexer": "ipython3",
   "version": "3.10.0"
  }
 },
 "nbformat": 4,
 "nbformat_minor": 5
}
