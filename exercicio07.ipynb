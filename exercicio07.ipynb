{
 "cells": [
  {
   "cell_type": "markdown",
   "id": "57e0c923",
   "metadata": {},
   "source": [
    "Considerando o dicionário com o nome dos alunos e suas respectivas notas abaixo, crie uma estrutura de repetição para percorrer cada elemento do dicionário para gravar cada aluno em um novo arquivo de texto\n",
    "- Cada aluno deve ocupar uma linha do novo arquivo de texto\n",
    "- O formato deve ser: nome,nota (Pedro,8.0)\n",
    "- Após a criação do arquivo de texto, faça a leitura do arquivo e mostre todos os alunos\n",
    "\n",
    "alunos = {'Pedro': 8.0, 'Maria': 10.0, 'Amilton': 7.5}"
   ]
  },
  {
   "cell_type": "code",
   "execution_count": 1,
   "id": "5d7dc726",
   "metadata": {},
   "outputs": [
    {
     "data": {
      "text/plain": [
       "{'Pedro': 8.0, 'Maria': 10.0, 'Amilton': 7.5}"
      ]
     },
     "execution_count": 1,
     "metadata": {},
     "output_type": "execute_result"
    }
   ],
   "source": [
    "alunos = {'Pedro': 8.0, 'Maria': 10.0, 'Amilton': 7.5}\n",
    "alunos"
   ]
  },
  {
   "cell_type": "code",
   "execution_count": 4,
   "id": "8fac063f",
   "metadata": {},
   "outputs": [],
   "source": [
    "with open(\"alunos.txt\", \"w\") as arquivo:\n",
    "    for nome, nota in alunos.items():\n",
    "        arquivo.write(nome + \" : \" + str(nota) + \"\\n\")"
   ]
  }
 ],
 "metadata": {
  "kernelspec": {
   "display_name": ".venv",
   "language": "python",
   "name": "python3"
  },
  "language_info": {
   "codemirror_mode": {
    "name": "ipython",
    "version": 3
   },
   "file_extension": ".py",
   "mimetype": "text/x-python",
   "name": "python",
   "nbconvert_exporter": "python",
   "pygments_lexer": "ipython3",
   "version": "3.10.0"
  }
 },
 "nbformat": 4,
 "nbformat_minor": 5
}
